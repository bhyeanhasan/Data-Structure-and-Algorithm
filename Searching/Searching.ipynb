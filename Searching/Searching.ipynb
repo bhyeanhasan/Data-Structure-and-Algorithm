{
 "cells": [
  {
   "cell_type": "code",
   "id": "initial_id",
   "metadata": {
    "collapsed": true,
    "ExecuteTime": {
     "end_time": "2024-12-02T17:59:44.883581Z",
     "start_time": "2024-12-02T17:59:44.876632Z"
    }
   },
   "source": [
    "import math\n",
    "\n",
    "\n",
    "def binary_search_recusion(arr, target, low, high):\n",
    "    if low > high:\n",
    "        return -1\n",
    "    mid = low + (high - low) // 2\n",
    "    if arr[mid] == target:\n",
    "        return mid\n",
    "    elif arr[mid] < target:\n",
    "        return binary_search_recusion(arr, target, mid + 1, high)\n",
    "    else:\n",
    "        return binary_search_recusion(arr, target, low, mid - 1)"
   ],
   "outputs": [],
   "execution_count": 68
  },
  {
   "metadata": {
    "ExecuteTime": {
     "end_time": "2024-12-02T17:59:44.917451Z",
     "start_time": "2024-12-02T17:59:44.910932Z"
    }
   },
   "cell_type": "code",
   "source": [
    "def binary_search_loop(arr, target, low, high):\n",
    "    while low <= high:\n",
    "        mid = low + (high - low) // 2\n",
    "        if arr[mid] == target:\n",
    "            return mid\n",
    "        elif arr[mid] < target:\n",
    "            low = mid + 1\n",
    "        else:\n",
    "            high = mid - 1\n",
    "    return -1"
   ],
   "id": "356d648d99a8b243",
   "outputs": [],
   "execution_count": 69
  },
  {
   "metadata": {
    "ExecuteTime": {
     "end_time": "2024-12-02T17:59:44.943719Z",
     "start_time": "2024-12-02T17:59:44.936373Z"
    }
   },
   "cell_type": "code",
   "source": [
    "def exponential_search(arr, target):\n",
    "    n = len(arr)\n",
    "    if arr[0] == target:\n",
    "        return 0\n",
    "    i = 1\n",
    "    while i < n and arr[i] <= target:\n",
    "        i *= 2\n",
    "    low = i // 2\n",
    "    high = min(i, n)\n",
    "    return binary_search_recusion(arr, target, low, high)"
   ],
   "id": "af2d00ff441313c7",
   "outputs": [],
   "execution_count": 70
  },
  {
   "metadata": {
    "ExecuteTime": {
     "end_time": "2024-12-02T17:59:44.965453Z",
     "start_time": "2024-12-02T17:59:44.959999Z"
    }
   },
   "cell_type": "code",
   "source": [
    "def jump_search(arr, target):\n",
    "    n = len(arr)\n",
    "    step = int(math.sqrt(n))\n",
    "    prev = current = 0\n",
    "\n",
    "    while arr[current] < target and current < n:\n",
    "        prev = current\n",
    "        current += step\n",
    "\n",
    "    for i in range(prev, min(current + 1, n)):\n",
    "        if arr[i] == target:\n",
    "            return i\n",
    "\n",
    "    return -1"
   ],
   "id": "f5579efae02723c0",
   "outputs": [],
   "execution_count": 71
  },
  {
   "metadata": {
    "ExecuteTime": {
     "end_time": "2024-12-02T17:59:44.992989Z",
     "start_time": "2024-12-02T17:59:44.985268Z"
    }
   },
   "cell_type": "code",
   "source": [
    "def interpolation_search(arr, target):\n",
    "    low = 0\n",
    "    high = len(arr) - 1\n",
    "    \n",
    "    while low <= high and arr[low] != arr[high]:\n",
    "        pos = low + ((high - low) // (arr[high] - arr[low])) * (target - arr[low])\n",
    "\n",
    "        if arr[pos] == target:\n",
    "            return pos\n",
    "        elif arr[pos] > target:\n",
    "            high = pos - 1\n",
    "        else:\n",
    "            low = pos + 1\n",
    "    return -1"
   ],
   "id": "8a439e726c592a42",
   "outputs": [],
   "execution_count": 72
  },
  {
   "metadata": {
    "ExecuteTime": {
     "end_time": "2024-12-02T17:59:45.039505Z",
     "start_time": "2024-12-02T17:59:45.031294Z"
    }
   },
   "cell_type": "code",
   "source": [
    "arr = [1, 3, 5, 7, 9, 11, 13, 15, 17]\n",
    "target = 7\n",
    "result1 = binary_search_recusion(arr, target, 0, len(arr) - 1)\n",
    "result2 = binary_search_loop(arr, target, 0, len(arr) - 1)\n",
    "result3 = jump_search(arr, target)\n",
    "result4 = exponential_search(arr, target)\n",
    "result5 = interpolation_search(arr, target)\n",
    "print(result1, result2, result3, result4, result5)"
   ],
   "id": "8053f822c14a7d5",
   "outputs": [
    {
     "name": "stdout",
     "output_type": "stream",
     "text": [
      "3 3 3 3 3\n"
     ]
    }
   ],
   "execution_count": 73
  }
 ],
 "metadata": {
  "kernelspec": {
   "display_name": "Python 3",
   "language": "python",
   "name": "python3"
  },
  "language_info": {
   "codemirror_mode": {
    "name": "ipython",
    "version": 2
   },
   "file_extension": ".py",
   "mimetype": "text/x-python",
   "name": "python",
   "nbconvert_exporter": "python",
   "pygments_lexer": "ipython2",
   "version": "2.7.6"
  }
 },
 "nbformat": 4,
 "nbformat_minor": 5
}
