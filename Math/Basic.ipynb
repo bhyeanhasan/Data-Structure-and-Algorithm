{
 "cells": [
  {
   "cell_type": "code",
   "id": "initial_id",
   "metadata": {
    "collapsed": true,
    "ExecuteTime": {
     "end_time": "2025-01-03T16:47:53.890348Z",
     "start_time": "2025-01-03T16:47:53.879039Z"
    }
   },
   "source": [
    "from collections import defaultdict\n",
    "\n",
    "\n",
    "def gcd(a, b):\n",
    "    if b == 0:\n",
    "        return a\n",
    "    else:\n",
    "        return gcd(b, a % b)"
   ],
   "outputs": [],
   "execution_count": 74
  },
  {
   "metadata": {
    "ExecuteTime": {
     "end_time": "2025-01-03T16:47:53.899566Z",
     "start_time": "2025-01-03T16:47:53.894858Z"
    }
   },
   "cell_type": "code",
   "source": [
    "def lcm(a, b):\n",
    "    return abs(a * b) // gcd(a, b)"
   ],
   "id": "d3e291c43a0b7a64",
   "outputs": [],
   "execution_count": 75
  },
  {
   "metadata": {
    "ExecuteTime": {
     "end_time": "2025-01-03T16:47:53.911032Z",
     "start_time": "2025-01-03T16:47:53.906381Z"
    }
   },
   "cell_type": "code",
   "source": [
    "def fibonacci(n):\n",
    "    series = [0, 1]\n",
    "    for i in range(2, n + 1):\n",
    "        series.append(series[i - 1] + series[i - 2])\n",
    "    return series"
   ],
   "id": "e4e26223a2cd2289",
   "outputs": [],
   "execution_count": 76
  },
  {
   "metadata": {
    "ExecuteTime": {
     "end_time": "2025-01-03T16:47:53.923242Z",
     "start_time": "2025-01-03T16:47:53.918158Z"
    }
   },
   "cell_type": "code",
   "source": [
    "def prime(n):\n",
    "    if n < 2:\n",
    "        return False\n",
    "    for i in range(2, int(n ** 0.5) + 1):\n",
    "        if n % i == 0:\n",
    "            return False\n",
    "    return True"
   ],
   "id": "c22f5225b6eb14bc",
   "outputs": [],
   "execution_count": 77
  },
  {
   "metadata": {
    "ExecuteTime": {
     "end_time": "2025-01-03T16:47:53.936989Z",
     "start_time": "2025-01-03T16:47:53.930383Z"
    }
   },
   "cell_type": "code",
   "source": [
    "def prime_sieve(n):\n",
    "    prime = [True for i in range(n + 1)]\n",
    "    prime[0] = prime[1] = False\n",
    "    for i in range(2, int(n ** 0.5) + 1):\n",
    "        if prime[i]:\n",
    "            for j in range(i * i, n + 1, i):\n",
    "                prime[j] = False\n",
    "    return prime\n"
   ],
   "id": "3e89d427e9eaa5be",
   "outputs": [],
   "execution_count": 78
  },
  {
   "metadata": {},
   "cell_type": "code",
   "outputs": [],
   "execution_count": null,
   "source": [
    "def factorial(n):\n",
    "    dp = [1] * (n + 1)\n",
    "    for i in range(1, n + 1):\n",
    "        dp[i] = dp[i - 1] * i\n",
    "    return dp[n]"
   ],
   "id": "8cee7346f7041044"
  },
  {
   "metadata": {
    "ExecuteTime": {
     "end_time": "2025-01-03T18:31:47.680231Z",
     "start_time": "2025-01-03T18:31:47.672800Z"
    }
   },
   "cell_type": "code",
   "source": [
    "def armstrong(n):\n",
    "    tmp = n\n",
    "    cnt = 0\n",
    "    arr = []\n",
    "\n",
    "    while tmp > 0:\n",
    "        cnt += 1\n",
    "        arr.append(tmp % 10)\n",
    "        tmp //= 10\n",
    "\n",
    "    sum = 0\n",
    "\n",
    "    for i in arr:\n",
    "        sum += i ** cnt\n",
    "\n",
    "    if n == sum:\n",
    "        return True\n",
    "    else:\n",
    "        return False\n",
    "\n",
    "\n",
    "armstrong(153)"
   ],
   "id": "4d06b82072a4348d",
   "outputs": [
    {
     "data": {
      "text/plain": [
       "True"
      ]
     },
     "execution_count": 82,
     "metadata": {},
     "output_type": "execute_result"
    }
   ],
   "execution_count": 82
  },
  {
   "metadata": {
    "ExecuteTime": {
     "end_time": "2025-01-03T18:50:14.235201Z",
     "start_time": "2025-01-03T18:50:14.224740Z"
    }
   },
   "cell_type": "code",
   "source": [
    "def sqaure_root(n):\n",
    "    if n <= 1:\n",
    "        return n\n",
    "\n",
    "    l, r = 0, n\n",
    "\n",
    "    while l <= r:\n",
    "        res = 0\n",
    "        mid = l + (r - l) // 2\n",
    "\n",
    "        if mid * mid == n:\n",
    "            return mid\n",
    "        elif mid * mid < n:\n",
    "            l = mid + 1\n",
    "            res = mid\n",
    "        else:\n",
    "            r = mid - 1\n",
    "            res = mid\n",
    "    return res\n",
    "\n",
    "\n",
    "sqaure_root(26)"
   ],
   "id": "1acf1ced5978aaf7",
   "outputs": [
    {
     "data": {
      "text/plain": [
       "5"
      ]
     },
     "execution_count": 88,
     "metadata": {},
     "output_type": "execute_result"
    }
   ],
   "execution_count": 88
  },
  {
   "metadata": {
    "ExecuteTime": {
     "end_time": "2025-01-03T19:01:20.396799Z",
     "start_time": "2025-01-03T19:01:20.376952Z"
    }
   },
   "cell_type": "code",
   "source": [
    "def sqaure_root_newton(n):\n",
    "    if n <= 1:\n",
    "        return n\n",
    "    guess = n / 2\n",
    "\n",
    "    while abs(guess * guess - n) > 0.0000001:\n",
    "        guess = (guess + n / guess) / 2\n",
    "    return guess\n",
    "\n",
    "\n",
    "sqaure_root_newton(26)"
   ],
   "id": "c95f8122af28f734",
   "outputs": [
    {
     "data": {
      "text/plain": [
       "5.099019513623642"
      ]
     },
     "execution_count": 105,
     "metadata": {},
     "output_type": "execute_result"
    }
   ],
   "execution_count": 105
  },
  {
   "metadata": {
    "ExecuteTime": {
     "end_time": "2025-01-03T19:38:20.780491Z",
     "start_time": "2025-01-03T19:38:20.771097Z"
    }
   },
   "cell_type": "code",
   "source": [
    "def sieve_number_of_divisors(n):\n",
    "    divisors = {i: [] for i in range(n + 1)}\n",
    "\n",
    "    for i in range(1, n + 1):\n",
    "        for j in range(i, n + 1, i):\n",
    "            divisors[j].append(i)\n",
    "    print(divisors)\n",
    "\n",
    "\n",
    "print(sieve_number_of_divisors(10))"
   ],
   "id": "830773b818eb7c14",
   "outputs": [
    {
     "name": "stdout",
     "output_type": "stream",
     "text": [
      "{0: [], 1: [1], 2: [1, 2], 3: [1, 3], 4: [1, 2, 4], 5: [1, 5], 6: [1, 2, 3, 6], 7: [1, 7], 8: [1, 2, 4, 8], 9: [1, 3, 9], 10: [1, 2, 5, 10]}\n",
      "None\n"
     ]
    }
   ],
   "execution_count": 114
  },
  {
   "metadata": {
    "ExecuteTime": {
     "end_time": "2025-01-03T21:24:26.142604Z",
     "start_time": "2025-01-03T21:24:26.134840Z"
    }
   },
   "cell_type": "code",
   "source": [
    "def number_of_divisors(n):\n",
    "    cnt = 0\n",
    "    for i in range(1, int(n**0.5) + 1):\n",
    "        if n % i == 0:\n",
    "            cnt += 1\n",
    "            if i != n//i:\n",
    "                cnt += 1\n",
    "    return cnt\n",
    "\n",
    "print(number_of_divisors(5))"
   ],
   "id": "976dacd8b446af5c",
   "outputs": [
    {
     "name": "stdout",
     "output_type": "stream",
     "text": [
      "2\n"
     ]
    }
   ],
   "execution_count": 117
  },
  {
   "metadata": {
    "ExecuteTime": {
     "end_time": "2025-01-03T16:47:53.957468Z",
     "start_time": "2025-01-03T16:47:53.951989Z"
    }
   },
   "cell_type": "code",
   "source": [
    "a = 8\n",
    "b = 12\n",
    "\n",
    "print(gcd(a, b))\n",
    "print(lcm(a, b))\n",
    "print(fibonacci(10))\n",
    "print(prime(28))\n",
    "print(prime_sieve(100))\n",
    "p"
   ],
   "id": "11a6ca48f28aefb8",
   "outputs": [
    {
     "name": "stdout",
     "output_type": "stream",
     "text": [
      "4\n",
      "24\n",
      "[0, 1, 1, 2, 3, 5, 8, 13, 21, 34, 55]\n",
      "False\n",
      "[False, False, True, True, False, True, False, True, False, False, False, True, False, True, False, False, False, True, False, True, False, False, False, True, False, False, False, False, False, True, False, True, False, False, False, False, False, True, False, False, False, True, False, True, False, False, False, True, False, False, False, False, False, True, False, False, False, False, False, True, False, True, False, False, False, False, False, True, False, False, False, True, False, True, False, False, False, False, False, True, False, False, False, True, False, False, False, False, False, True, False, False, False, False, False, False, False, True, False, False, False]\n"
     ]
    }
   ],
   "execution_count": 79
  }
 ],
 "metadata": {
  "kernelspec": {
   "display_name": "Python 3",
   "language": "python",
   "name": "python3"
  },
  "language_info": {
   "codemirror_mode": {
    "name": "ipython",
    "version": 2
   },
   "file_extension": ".py",
   "mimetype": "text/x-python",
   "name": "python",
   "nbconvert_exporter": "python",
   "pygments_lexer": "ipython2",
   "version": "2.7.6"
  }
 },
 "nbformat": 4,
 "nbformat_minor": 5
}
