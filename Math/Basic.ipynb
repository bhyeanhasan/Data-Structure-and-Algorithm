{
 "cells": [
  {
   "cell_type": "code",
   "id": "initial_id",
   "metadata": {
    "collapsed": true,
    "ExecuteTime": {
     "end_time": "2025-01-03T16:47:53.890348Z",
     "start_time": "2025-01-03T16:47:53.879039Z"
    }
   },
   "source": [
    "def gcd(a, b):\n",
    "    if b == 0:\n",
    "        return a\n",
    "    else:\n",
    "        return gcd(b, a % b)"
   ],
   "outputs": [],
   "execution_count": 74
  },
  {
   "metadata": {
    "ExecuteTime": {
     "end_time": "2025-01-03T16:47:53.899566Z",
     "start_time": "2025-01-03T16:47:53.894858Z"
    }
   },
   "cell_type": "code",
   "source": [
    "def lcm(a, b):\n",
    "    return abs(a * b) // gcd(a, b)"
   ],
   "id": "d3e291c43a0b7a64",
   "outputs": [],
   "execution_count": 75
  },
  {
   "metadata": {
    "ExecuteTime": {
     "end_time": "2025-01-03T16:47:53.911032Z",
     "start_time": "2025-01-03T16:47:53.906381Z"
    }
   },
   "cell_type": "code",
   "source": [
    "def fibonacci(n):\n",
    "    series = [0, 1]\n",
    "    for i in range(2, n + 1):\n",
    "        series.append(series[i - 1] + series[i - 2])\n",
    "    return series"
   ],
   "id": "e4e26223a2cd2289",
   "outputs": [],
   "execution_count": 76
  },
  {
   "metadata": {
    "ExecuteTime": {
     "end_time": "2025-01-03T16:47:53.923242Z",
     "start_time": "2025-01-03T16:47:53.918158Z"
    }
   },
   "cell_type": "code",
   "source": [
    "def prime(n):\n",
    "    if n < 2:\n",
    "        return False\n",
    "    for i in range(2, int(n ** 0.5) + 1):\n",
    "        if n % i == 0:\n",
    "            return False\n",
    "    return True"
   ],
   "id": "c22f5225b6eb14bc",
   "outputs": [],
   "execution_count": 77
  },
  {
   "metadata": {
    "ExecuteTime": {
     "end_time": "2025-01-03T16:47:53.936989Z",
     "start_time": "2025-01-03T16:47:53.930383Z"
    }
   },
   "cell_type": "code",
   "source": [
    "def prime_sieve(n):\n",
    "    prime = [True for i in range(n + 1)]\n",
    "    prime[0] = prime[1] = False\n",
    "    for i in range(2, int(n ** 0.5) + 1):\n",
    "        if prime[i]:\n",
    "            for j in range(i * i, n + 1, i):\n",
    "                prime[j] = False\n",
    "    return prime\n"
   ],
   "id": "3e89d427e9eaa5be",
   "outputs": [],
   "execution_count": 78
  },
  {
   "metadata": {
    "ExecuteTime": {
     "end_time": "2025-01-03T16:47:53.957468Z",
     "start_time": "2025-01-03T16:47:53.951989Z"
    }
   },
   "cell_type": "code",
   "source": [
    "a = 8\n",
    "b = 12\n",
    "\n",
    "print(gcd(a, b))\n",
    "print(lcm(a, b))\n",
    "print(fibonacci(10))\n",
    "print(prime(28))\n",
    "print(prime_sieve(100))"
   ],
   "id": "11a6ca48f28aefb8",
   "outputs": [
    {
     "name": "stdout",
     "output_type": "stream",
     "text": [
      "4\n",
      "24\n",
      "[0, 1, 1, 2, 3, 5, 8, 13, 21, 34, 55]\n",
      "False\n",
      "[False, False, True, True, False, True, False, True, False, False, False, True, False, True, False, False, False, True, False, True, False, False, False, True, False, False, False, False, False, True, False, True, False, False, False, False, False, True, False, False, False, True, False, True, False, False, False, True, False, False, False, False, False, True, False, False, False, False, False, True, False, True, False, False, False, False, False, True, False, False, False, True, False, True, False, False, False, False, False, True, False, False, False, True, False, False, False, False, False, True, False, False, False, False, False, False, False, True, False, False, False]\n"
     ]
    }
   ],
   "execution_count": 79
  }
 ],
 "metadata": {
  "kernelspec": {
   "display_name": "Python 3",
   "language": "python",
   "name": "python3"
  },
  "language_info": {
   "codemirror_mode": {
    "name": "ipython",
    "version": 2
   },
   "file_extension": ".py",
   "mimetype": "text/x-python",
   "name": "python",
   "nbconvert_exporter": "python",
   "pygments_lexer": "ipython2",
   "version": "2.7.6"
  }
 },
 "nbformat": 4,
 "nbformat_minor": 5
}
