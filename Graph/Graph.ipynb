{
 "cells": [
  {
   "cell_type": "code",
   "id": "58e0a8020e4b1fe5",
   "metadata": {
    "ExecuteTime": {
     "end_time": "2024-12-05T06:07:17.220602Z",
     "start_time": "2024-12-05T06:07:16.466384Z"
    }
   },
   "source": [
    "from networkx.classes import neighbors\n",
    "\n",
    "def bfs(graph, root):\n",
    "    visited = []\n",
    "    queue = []\n",
    "\n",
    "    visited.append(root)\n",
    "    queue.append(root)\n",
    "\n",
    "    while queue:\n",
    "        # Dequeue a node from the front of the queue\n",
    "        node = queue.pop(0)\n",
    "        # Process the current node (e.g., print it)\n",
    "        print(node)\n",
    "        # Explore all the neighbors of the current node\n",
    "        for neighbor in graph[node]:\n",
    "            if neighbor not in visited:\n",
    "                visited.append(neighbor)\n",
    "                queue.append(neighbor)"
   ],
   "outputs": [],
   "execution_count": 15
  },
  {
   "metadata": {
    "ExecuteTime": {
     "end_time": "2024-12-05T06:07:17.233860Z",
     "start_time": "2024-12-05T06:07:17.227310Z"
    }
   },
   "cell_type": "code",
   "source": [
    "def dfs(graph, root):\n",
    "    visited = []\n",
    "    stack = []\n",
    "\n",
    "    visited.append(root)\n",
    "    stack.append(root)\n",
    "\n",
    "    while stack:\n",
    "        # Pop a node from the top of the stack\n",
    "        node = stack.pop()\n",
    "        # Process the current node (e.g., print it)\n",
    "        print(node)\n",
    "        # Explore all the neighbors of the current node\n",
    "        for neighbor in graph[node]:\n",
    "            if neighbor not in visited:\n",
    "                visited.append(neighbor)\n",
    "                stack.append(neighbor)"
   ],
   "id": "3a604310c13b85b2",
   "outputs": [],
   "execution_count": 16
  },
  {
   "metadata": {
    "ExecuteTime": {
     "end_time": "2024-12-05T06:07:17.265916Z",
     "start_time": "2024-12-05T06:07:17.259755Z"
    }
   },
   "cell_type": "code",
   "source": [
    "def topological_sort(graph):\n",
    "    visited = []\n",
    "    stack = []\n",
    "\n",
    "    def dfs(node):\n",
    "        visited.append(node)\n",
    "        for neighbor in graph[node]:\n",
    "            if neighbor not in visited:\n",
    "                dfs(neighbor)\n",
    "        stack.append(node)\n",
    "\n",
    "    for node in graph:\n",
    "        if node not in visited:\n",
    "            dfs(node)\n",
    "\n",
    "    return stack[::-1]"
   ],
   "id": "e00add8893dadc59",
   "outputs": [],
   "execution_count": 17
  },
  {
   "metadata": {
    "collapsed": true,
    "ExecuteTime": {
     "end_time": "2024-12-05T06:07:17.334181Z",
     "start_time": "2024-12-05T06:07:17.324665Z"
    }
   },
   "cell_type": "code",
   "source": [
    "'''\n",
    "    A -- B -- D\n",
    "    |    |\n",
    "    C -- E\n",
    "'''\n",
    "\n",
    "graph = {\n",
    "    'A': ['B', 'C'],\n",
    "    'B': ['A', 'D', 'E'],\n",
    "    'C': ['A', 'E'],\n",
    "    'D': ['B'],\n",
    "    'E': ['B', 'C']\n",
    "}\n",
    "\n",
    "bfs(graph, 'A')\n",
    "dfs(graph, 'A')\n",
    "topological_sort(graph)"
   ],
   "id": "initial_id",
   "outputs": [
    {
     "name": "stdout",
     "output_type": "stream",
     "text": [
      "A\n",
      "B\n",
      "C\n",
      "D\n",
      "E\n",
      "A\n",
      "C\n",
      "E\n",
      "B\n",
      "D\n"
     ]
    },
    {
     "data": {
      "text/plain": [
       "['A', 'B', 'E', 'C', 'D']"
      ]
     },
     "execution_count": 18,
     "metadata": {},
     "output_type": "execute_result"
    }
   ],
   "execution_count": 18
  },
  {
   "metadata": {
    "ExecuteTime": {
     "end_time": "2024-12-05T06:07:17.532485Z",
     "start_time": "2024-12-05T06:07:17.524521Z"
    }
   },
   "cell_type": "code",
   "source": [
    "def floyd_warshall(graph):\n",
    "    \n",
    "    # Initialize distance matrix\n",
    "    dist = {node: {neighbour: 0 if node == neighbour else float('inf') for neighbour in graph} for node in graph}\n",
    "    \n",
    "    # Set the direct distances (edges) from the graph\n",
    "    for node in graph:\n",
    "        for neighbor, weight in graph[node]:\n",
    "            dist[node][neighbor] = weight\n",
    "\n",
    "    # Floyd-Warshall Algorithm to update the distances\n",
    "    for k in graph:\n",
    "        for i in graph:\n",
    "            for j in graph:\n",
    "                dist[i][j] = min(dist[i][j], dist[i][k] + dist[k][j])\n",
    "\n",
    "    return dist"
   ],
   "id": "6f4823b330fdba2a",
   "outputs": [],
   "execution_count": 19
  },
  {
   "metadata": {
    "ExecuteTime": {
     "end_time": "2024-12-05T06:07:17.567105Z",
     "start_time": "2024-12-05T06:07:17.559569Z"
    }
   },
   "cell_type": "code",
   "source": [
    "graph = {\n",
    "    'A': [('B', 1), ('C', 4)],\n",
    "    'B': [('A', 1), ('C', 2), ('D', 5)],\n",
    "    'C': [('A', 4), ('B', 2), ('D', 1)],\n",
    "    'D': [('B', 5), ('C', 1)],\n",
    "}\n",
    "\n",
    "shortest_paths = floyd_warshall(graph)\n",
    "\n",
    "for node in shortest_paths:\n",
    "    print(f\"{node}: {shortest_paths[node]}\")"
   ],
   "id": "c95223cd9e0c3832",
   "outputs": [
    {
     "name": "stdout",
     "output_type": "stream",
     "text": [
      "A: {'A': 0, 'B': 1, 'C': 3, 'D': 4}\n",
      "B: {'A': 1, 'B': 0, 'C': 2, 'D': 3}\n",
      "C: {'A': 3, 'B': 2, 'C': 0, 'D': 1}\n",
      "D: {'A': 4, 'B': 3, 'C': 1, 'D': 0}\n"
     ]
    }
   ],
   "execution_count": 20
  }
 ],
 "metadata": {
  "kernelspec": {
   "display_name": "Python 3",
   "language": "python",
   "name": "python3"
  },
  "language_info": {
   "codemirror_mode": {
    "name": "ipython",
    "version": 2
   },
   "file_extension": ".py",
   "mimetype": "text/x-python",
   "name": "python",
   "nbconvert_exporter": "python",
   "pygments_lexer": "ipython2",
   "version": "2.7.6"
  }
 },
 "nbformat": 4,
 "nbformat_minor": 5
}
