{
 "cells": [
  {
   "cell_type": "code",
   "id": "initial_id",
   "metadata": {
    "collapsed": true,
    "ExecuteTime": {
     "end_time": "2024-11-29T19:28:58.628311Z",
     "start_time": "2024-11-29T19:28:58.621241Z"
    }
   },
   "source": [
    "def selection_sort(lst):\n",
    "    for i in range(len(lst)):\n",
    "        min_index = i\n",
    "        for j in range(i + 1, len(lst)):\n",
    "            if lst[j] < lst[min_index]:\n",
    "                min_index = j\n",
    "        lst[min_index], lst[i] = lst[i], lst[min_index]\n",
    "    print(lst)"
   ],
   "outputs": [],
   "execution_count": 25
  },
  {
   "metadata": {
    "ExecuteTime": {
     "end_time": "2024-11-29T19:28:58.687293Z",
     "start_time": "2024-11-29T19:28:58.681060Z"
    }
   },
   "cell_type": "code",
   "source": [
    "def bubble_sort(lst):\n",
    "    hasSwapped = True\n",
    "    while hasSwapped:\n",
    "        hasSwapped = False\n",
    "        for i in range(len(lst) - 1):\n",
    "            if lst[i] > lst[i + 1]:\n",
    "                lst[i], lst[i + 1] = lst[i + 1], lst[i]\n",
    "                hasSwapped = True\n",
    "    print(lst)"
   ],
   "id": "8717b53150150d12",
   "outputs": [],
   "execution_count": 26
  },
  {
   "metadata": {
    "ExecuteTime": {
     "end_time": "2024-11-29T19:28:58.706631Z",
     "start_time": "2024-11-29T19:28:58.700537Z"
    }
   },
   "cell_type": "code",
   "source": [
    "def insertion_sort(lst):\n",
    "    for i in range(1, len(lst)):\n",
    "        key = lst[i]\n",
    "        j = i - 1\n",
    "        while j >= 0 and key < lst[j]:\n",
    "            lst[j + 1] = lst[j]\n",
    "            j -= 1\n",
    "        lst[j + 1] = key\n",
    "    print(lst)"
   ],
   "id": "2a1c721a297eff38",
   "outputs": [],
   "execution_count": 27
  },
  {
   "metadata": {
    "ExecuteTime": {
     "end_time": "2024-11-29T19:28:58.728636Z",
     "start_time": "2024-11-29T19:28:58.721271Z"
    }
   },
   "cell_type": "code",
   "source": [
    "def quicksort(lst):\n",
    "    if len(lst) <= 1:\n",
    "        return lst\n",
    "    pivot = lst[len(lst) // 2]\n",
    "    left = [x for x in lst if x < pivot]\n",
    "    middle = [x for x in lst if x == pivot]\n",
    "    right = [x for x in lst if x > pivot]\n",
    "    return quicksort(left) + middle + quicksort(right)"
   ],
   "id": "603fe0415be1e65e",
   "outputs": [],
   "execution_count": 28
  },
  {
   "metadata": {
    "ExecuteTime": {
     "end_time": "2024-11-29T19:28:58.753422Z",
     "start_time": "2024-11-29T19:28:58.744581Z"
    }
   },
   "cell_type": "code",
   "source": [
    "def merge_sort(arr):\n",
    "    if len(arr) <= 1:\n",
    "        return arr\n",
    "    mid = len(arr) // 2\n",
    "    left_half = arr[:mid]\n",
    "    right_half = arr[mid:]\n",
    "    left_half = merge_sort(left_half)\n",
    "    right_half = merge_sort(right_half)\n",
    "    return merge(left_half, right_half)\n",
    "\n",
    "def merge(left, right):\n",
    "    result = []  \n",
    "    i = j = 0  \n",
    "    while i < len(left) and j < len(right):\n",
    "        if left[i] < right[j]:\n",
    "            result.append(left[i])  \n",
    "            i += 1\n",
    "        else:\n",
    "            result.append(right[j])  \n",
    "            j += 1\n",
    "    result.extend(left[i:])\n",
    "    result.extend(right[j:])\n",
    "    return result"
   ],
   "id": "e2a1f5a38f92a3af",
   "outputs": [],
   "execution_count": 29
  },
  {
   "metadata": {
    "ExecuteTime": {
     "end_time": "2024-11-29T19:28:58.776786Z",
     "start_time": "2024-11-29T19:28:58.770299Z"
    }
   },
   "cell_type": "code",
   "source": [
    "arr = [9, 25, 10, 12, 20]\n",
    "\n",
    "selection_sort(arr)\n",
    "bubble_sort(arr)\n",
    "insertion_sort(arr)\n",
    "x = quicksort(arr)\n",
    "print(x)\n",
    "x = merge_sort(arr)\n",
    "print(x)"
   ],
   "id": "cca175840c41ab3d",
   "outputs": [
    {
     "name": "stdout",
     "output_type": "stream",
     "text": [
      "[9, 10, 12, 20, 25]\n",
      "[9, 10, 12, 20, 25]\n",
      "[9, 10, 12, 20, 25]\n",
      "[9, 10, 12, 20, 25]\n",
      "[9, 10, 12, 20, 25]\n"
     ]
    }
   ],
   "execution_count": 30
  }
 ],
 "metadata": {
  "kernelspec": {
   "display_name": "Python 3",
   "language": "python",
   "name": "python3"
  },
  "language_info": {
   "codemirror_mode": {
    "name": "ipython",
    "version": 2
   },
   "file_extension": ".py",
   "mimetype": "text/x-python",
   "name": "python",
   "nbconvert_exporter": "python",
   "pygments_lexer": "ipython2",
   "version": "2.7.6"
  }
 },
 "nbformat": 4,
 "nbformat_minor": 5
}
